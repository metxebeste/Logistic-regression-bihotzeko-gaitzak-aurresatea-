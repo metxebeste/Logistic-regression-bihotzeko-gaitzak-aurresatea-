{
 "cells": [
  {
   "cell_type": "code",
   "execution_count": 1,
   "metadata": {
    "colab": {
     "base_uri": "https://localhost:8080/",
     "height": 204
    },
    "executionInfo": {
     "elapsed": 1484,
     "status": "ok",
     "timestamp": 1603959454758,
     "user": {
      "displayName": "Mikel Etxebeste",
      "photoUrl": "",
      "userId": "14089783470167984040"
     },
     "user_tz": -60
    },
    "id": "-uZhLOLIUGTU",
    "outputId": "4931ad8b-5045-48dd-cc28-df470a71d1a7"
   },
   "outputs": [
    {
     "data": {
      "text/html": [
       "<div>\n",
       "<style scoped>\n",
       "    .dataframe tbody tr th:only-of-type {\n",
       "        vertical-align: middle;\n",
       "    }\n",
       "\n",
       "    .dataframe tbody tr th {\n",
       "        vertical-align: top;\n",
       "    }\n",
       "\n",
       "    .dataframe thead th {\n",
       "        text-align: right;\n",
       "    }\n",
       "</style>\n",
       "<table border=\"1\" class=\"dataframe\">\n",
       "  <thead>\n",
       "    <tr style=\"text-align: right;\">\n",
       "      <th></th>\n",
       "      <th>sbp</th>\n",
       "      <th>tobacco</th>\n",
       "      <th>ldl</th>\n",
       "      <th>adiposity</th>\n",
       "      <th>typea</th>\n",
       "      <th>obesity</th>\n",
       "      <th>alcohol</th>\n",
       "      <th>age</th>\n",
       "      <th>chd</th>\n",
       "    </tr>\n",
       "  </thead>\n",
       "  <tbody>\n",
       "    <tr>\n",
       "      <th>0</th>\n",
       "      <td>174.0</td>\n",
       "      <td>0.00</td>\n",
       "      <td>8.46</td>\n",
       "      <td>35.10</td>\n",
       "      <td>35.0</td>\n",
       "      <td>25.27</td>\n",
       "      <td>0.00</td>\n",
       "      <td>61.0</td>\n",
       "      <td>0</td>\n",
       "    </tr>\n",
       "    <tr>\n",
       "      <th>1</th>\n",
       "      <td>132.0</td>\n",
       "      <td>7.90</td>\n",
       "      <td>2.85</td>\n",
       "      <td>26.50</td>\n",
       "      <td>51.0</td>\n",
       "      <td>26.16</td>\n",
       "      <td>25.71</td>\n",
       "      <td>44.0</td>\n",
       "      <td>0</td>\n",
       "    </tr>\n",
       "    <tr>\n",
       "      <th>2</th>\n",
       "      <td>168.0</td>\n",
       "      <td>4.50</td>\n",
       "      <td>6.68</td>\n",
       "      <td>28.47</td>\n",
       "      <td>43.0</td>\n",
       "      <td>24.25</td>\n",
       "      <td>24.38</td>\n",
       "      <td>56.0</td>\n",
       "      <td>0</td>\n",
       "    </tr>\n",
       "    <tr>\n",
       "      <th>3</th>\n",
       "      <td>150.0</td>\n",
       "      <td>3.50</td>\n",
       "      <td>6.99</td>\n",
       "      <td>25.39</td>\n",
       "      <td>50.0</td>\n",
       "      <td>23.35</td>\n",
       "      <td>23.48</td>\n",
       "      <td>61.0</td>\n",
       "      <td>1</td>\n",
       "    </tr>\n",
       "    <tr>\n",
       "      <th>4</th>\n",
       "      <td>143.0</td>\n",
       "      <td>5.04</td>\n",
       "      <td>4.86</td>\n",
       "      <td>23.59</td>\n",
       "      <td>58.0</td>\n",
       "      <td>24.69</td>\n",
       "      <td>18.72</td>\n",
       "      <td>42.0</td>\n",
       "      <td>0</td>\n",
       "    </tr>\n",
       "  </tbody>\n",
       "</table>\n",
       "</div>"
      ],
      "text/plain": [
       "     sbp  tobacco   ldl  adiposity  typea  obesity  alcohol   age  chd\n",
       "0  174.0     0.00  8.46      35.10   35.0    25.27     0.00  61.0    0\n",
       "1  132.0     7.90  2.85      26.50   51.0    26.16    25.71  44.0    0\n",
       "2  168.0     4.50  6.68      28.47   43.0    24.25    24.38  56.0    0\n",
       "3  150.0     3.50  6.99      25.39   50.0    23.35    23.48  61.0    1\n",
       "4  143.0     5.04  4.86      23.59   58.0    24.69    18.72  42.0    0"
      ]
     },
     "execution_count": 1,
     "metadata": {},
     "output_type": "execute_result"
    }
   ],
   "source": [
    "# Import required libraries:\n",
    "import numpy as np\n",
    "import pandas as pd\n",
    "\n",
    "# Read the CSV file :\n",
    "dataset = pd.read_csv('https://raw.githubusercontent.com/metxebeste/Logistic-regression-bihotzeko-gaitzak-aurresatea-/main/SAheart.csv')\n",
    "\n",
    "# X = dataset[[ 'sbp', 'tobacco', 'ldl','adiposity','famhist','typea','obesity','alcohol','age']] #famhist ezin da erabili (0 edo 1)\n",
    "X = dataset[['sbp', 'tobacco', 'ldl','adiposity','typea','obesity','alcohol','age']]\n",
    "y = dataset['chd']\n",
    "\n",
    "# Splitting the Data set into the Training Set and Test Set\n",
    "from sklearn.model_selection import train_test_split\n",
    "X_train, X_test, y_train, y_test = train_test_split(X, y, test_size = 0.25, random_state = 0)\n",
    "\n",
    "# Feature Scaling\n",
    "from sklearn.preprocessing import StandardScaler\n",
    "sc_X = StandardScaler()\n",
    "X_train = sc_X.fit_transform(X_train)\n",
    "X_test = sc_X.transform(X_test)\n",
    "\n",
    "# Fitting Logistic Regression to the Training Set\n",
    "from sklearn.linear_model import LogisticRegression\n",
    "LR = LogisticRegression(random_state=0)\n",
    "LR.fit(X_train, y_train)\n",
    "\n",
    "# Predicting the Test set results\n",
    "y_pred = LR.predict(X_test)\n",
    "\n",
    "# Making the Confusion Matrix (get accuracy)\n",
    "from sklearn.metrics import confusion_matrix\n",
    "cm = confusion_matrix(y_test, y_pred)\n",
    "\n",
    "# Aurrikuspena panda dataframe batera pasa eta lehen 5 lerroak bistaratu)\n",
    "X_test = sc_X.inverse_transform(X_test)\n",
    "y_pred = pd.DataFrame(y_pred, columns=['chd'])\n",
    "X_test = pd.DataFrame(X_test, columns=['sbp', 'tobacco', 'ldl','adiposity','typea','obesity','alcohol','age'])\n",
    "emaitza = pd.concat([X_test, y_pred], axis=1,)\n",
    "emaitza.head()"
   ]
  },
  {
   "cell_type": "code",
   "execution_count": null,
   "metadata": {
    "colab": {
     "base_uri": "https://localhost:8080/",
     "height": 34
    },
    "executionInfo": {
     "elapsed": 39340,
     "status": "ok",
     "timestamp": 1603723977234,
     "user": {
      "displayName": "Mikel Etxebeste",
      "photoUrl": "",
      "userId": "14089783470167984040"
     },
     "user_tz": -60
    },
    "id": "MN3zLJjVZRiu",
    "outputId": "e5ce8dec-7080-45e8-88a5-e2aed75dc43f"
   },
   "outputs": [],
   "source": []
  },
  {
   "cell_type": "code",
   "execution_count": null,
   "metadata": {},
   "outputs": [],
   "source": []
  }
 ],
 "metadata": {
  "colab": {
   "collapsed_sections": [],
   "name": "Regresioa_logistikoa_bihotzeko_gaitza.ipynb",
   "provenance": []
  },
  "kernelspec": {
   "display_name": "Python 3",
   "language": "python",
   "name": "python3"
  },
  "language_info": {
   "codemirror_mode": {
    "name": "ipython",
    "version": 3
   },
   "file_extension": ".py",
   "mimetype": "text/x-python",
   "name": "python",
   "nbconvert_exporter": "python",
   "pygments_lexer": "ipython3",
   "version": "3.8.3"
  }
 },
 "nbformat": 4,
 "nbformat_minor": 1
}

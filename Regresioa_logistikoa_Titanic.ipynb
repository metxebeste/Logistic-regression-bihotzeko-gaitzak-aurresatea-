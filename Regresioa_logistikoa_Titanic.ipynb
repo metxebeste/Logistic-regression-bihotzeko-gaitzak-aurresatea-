{
  "nbformat": 4,
  "nbformat_minor": 0,
  "metadata": {
    "kernelspec": {
      "display_name": "Python 3",
      "language": "python",
      "name": "python3"
    },
    "language_info": {
      "codemirror_mode": {
        "name": "ipython",
        "version": 3
      },
      "file_extension": ".py",
      "mimetype": "text/x-python",
      "name": "python",
      "nbconvert_exporter": "python",
      "pygments_lexer": "ipython3",
      "version": "3.8.3"
    },
    "colab": {
      "name": "Regresioa_logistikoa_Titanic.ipynb",
      "provenance": [],
      "collapsed_sections": [],
      "include_colab_link": true
    }
  },
  "cells": [
    {
      "cell_type": "markdown",
      "metadata": {
        "id": "view-in-github",
        "colab_type": "text"
      },
      "source": [
        "<a href=\"https://colab.research.google.com/github/metxebeste/Regresioa_logistikoa/blob/develop/Regresioa_logistikoa_Titanic.ipynb\" target=\"_parent\"><img src=\"https://colab.research.google.com/assets/colab-badge.svg\" alt=\"Open In Colab\"/></a>"
      ]
    },
    {
      "cell_type": "code",
      "metadata": {
        "id": "-uZhLOLIUGTU",
        "outputId": "37c5ad28-3c42-44a3-b1a4-162d881e52c7",
        "colab": {
          "base_uri": "https://localhost:8080/",
          "height": 633
        }
      },
      "source": [
        "# Import required libraries:\n",
        "import numpy as np\n",
        "import pandas as pd\n",
        "import matplotlib.pyplot as plt\n",
        "import seaborn as sns\n",
        "\n",
        "from sklearn import metrics\n",
        "from sklearn.linear_model import LogisticRegression\n",
        "from sklearn.preprocessing import StandardScaler\n",
        "from sklearn.model_selection import train_test_split\n",
        "\n",
        "# Read the CSV file :\n",
        "titanic = pd.read_csv('https://raw.githubusercontent.com/metxebeste/Regresioa_logistikoa/develop/titanic_train.csv')\n",
        "\n",
        "# Drop features that do not seem to add any value to our model\n",
        "titanic.drop(['PassengerId', 'Name', 'Ticket', 'Cabin'], axis=1, inplace=True)\n",
        "\n",
        "# Create categorical dummies for the embarkment ports\n",
        "ports = pd.get_dummies(titanic.Embarked, prefix='Embarked')\n",
        "ports.head()\n",
        "titanic = titanic.join(ports)\n",
        "titanic.drop(['Embarked'], axis=1, inplace=True)\n",
        "\n",
        "# Transform gender names to binaries\n",
        "titanic.Sex = titanic.Sex.map({'male': 0, 'female': 1})\n",
        "\n",
        "# Replace missing values\n",
        "titanic[pd.isnull(titanic).any(axis=1)]\n",
        "titanic.Age.fillna(titanic.Age.mean(), inplace=True)\n",
        "\n",
        "# Train and Test split\n",
        "y = titanic.Survived.copy()\n",
        "X = titanic.drop(['Survived'], axis=1)\n",
        "print(X)\n",
        "\n",
        "X_train, X_test, y_train, y_test = train_test_split(X, y, test_size=0.25, random_state=123)\n",
        "\n",
        "# Feature Scaling\n",
        "sc_X = StandardScaler()\n",
        "X_train = sc_X.fit_transform(X_train)\n",
        "X_test = sc_X.transform(X_test)\n",
        "\n",
        "# Logistic Regression Model\n",
        "model = LogisticRegression()\n",
        "model.fit(X_train, y_train)\n",
        "\n",
        "y_pred = pd.Series(model.predict(X_test))\n",
        "y_test = y_test.reset_index(drop=True)\n",
        "z = pd.concat([y_test, y_pred], axis=1)\n",
        "z.columns = ['True', 'Prediction']\n",
        "z.head()\n",
        "\n",
        "# Prezisioaren inguruko datuak kalkulatu eta erakutsi\n",
        "print(\"\")\n",
        "print(\"Accuracy:\", metrics.accuracy_score(y_test, y_pred))\n",
        "print(\"Precision:\", metrics.precision_score(y_test, y_pred))\n",
        "print(\"Recall:\", metrics.recall_score(y_test, y_pred))\n",
        "print(\"\")\n",
        "\n",
        "# A nice way to visualize the results of the model is by making use of a confusion matrix\n",
        "cnf_matrix = metrics.confusion_matrix(y_test, y_pred)\n",
        "\n",
        "labels = [0, 1]\n",
        "fig, ax = plt.subplots()\n",
        "tick_marks = np.arange(len(labels))\n",
        "plt.xticks(tick_marks, labels)\n",
        "plt.yticks(tick_marks, labels)\n",
        "# create heatmap\n",
        "sns.heatmap(pd.DataFrame(cnf_matrix), annot=True, cmap=\"YlGnBu\", fmt='g')\n",
        "ax.xaxis.set_label_position(\"top\")\n",
        "plt.title('Confusion matrix', y=1.1)\n",
        "plt.ylabel('True')\n",
        "plt.xlabel('Predicted')"
      ],
      "execution_count": null,
      "outputs": [
        {
          "output_type": "stream",
          "text": [
            "     Pclass  Sex        Age  SibSp  ...     Fare  Embarked_C  Embarked_Q  Embarked_S\n",
            "0         3    0  22.000000      1  ...   7.2500           0           0           1\n",
            "1         1    1  38.000000      1  ...  71.2833           1           0           0\n",
            "2         3    1  26.000000      0  ...   7.9250           0           0           1\n",
            "3         1    1  35.000000      1  ...  53.1000           0           0           1\n",
            "4         3    0  35.000000      0  ...   8.0500           0           0           1\n",
            "..      ...  ...        ...    ...  ...      ...         ...         ...         ...\n",
            "886       2    0  27.000000      0  ...  13.0000           0           0           1\n",
            "887       1    1  19.000000      0  ...  30.0000           0           0           1\n",
            "888       3    1  29.699118      1  ...  23.4500           0           0           1\n",
            "889       1    0  26.000000      0  ...  30.0000           1           0           0\n",
            "890       3    0  32.000000      0  ...   7.7500           0           1           0\n",
            "\n",
            "[891 rows x 9 columns]\n",
            "\n",
            "Accuracy: 0.8026905829596412\n",
            "Precision: 0.7439024390243902\n",
            "Recall: 0.7261904761904762\n",
            "\n"
          ],
          "name": "stdout"
        },
        {
          "output_type": "execute_result",
          "data": {
            "text/plain": [
              "Text(0.5, 15.0, 'Predicted')"
            ]
          },
          "metadata": {
            "tags": []
          },
          "execution_count": 34
        },
        {
          "output_type": "display_data",
          "data": {
            "image/png": "[encoded data removed]",
            "text/plain": [
              "<Figure size 432x288 with 2 Axes>"
            ]
          },
          "metadata": {
            "tags": [],
            "needs_background": "light"
          }
        }
      ]
    },
    {
      "cell_type": "markdown",
      "metadata": {
        "id": "qh9sVnwpOs8q"
      },
      "source": [
        "https://towardsdatascience.com/python-scikit-learn-logistic-regression-classification-eb9c8de8938d"
      ]
    }
  ]
}